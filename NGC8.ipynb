{
 "cells": [
  {
   "cell_type": "markdown",
   "metadata": {},
   "source": [
    "# Non Graded Challenge : DDL, DML, and Basic DQL"
   ]
  },
  {
   "cell_type": "markdown",
   "metadata": {},
   "source": [
    "# Task\n",
    "This Non-Graded Challenge is done in notebook format with several mandatory criteria as follows:\n",
    "1. The library used is Pandas.\n",
    "2. The project is considered complete and ready for assessment if, when \"Run All\" is executed in the notebook, all cells successfully run to the end.\n",
    "3. The notebook's content should follow the outline below:\n",
    "\n",
    "This section contains the queries that have been created and the data loading process, followed by simple data exploration.\n"
   ]
  },
  {
   "cell_type": "markdown",
   "metadata": {},
   "source": [
    "\n",
    "a. Introduction, The introduction section must contain the identity, background of the problem, and the problem statement to be discussed."
   ]
  },
  {
   "cell_type": "markdown",
   "metadata": {},
   "source": [
    "=================================================\n",
    "\n",
    "Non Graded Challenge 2\n",
    "\n",
    "Nama  : Gerwyn Zulqarnain\n",
    "Batch : HCK-021\n",
    "\n",
    "Program ini dibuat untuk melakukan evaluasi konsep relational database danpandas.\n",
    "\n",
    "================================================="
   ]
  },
  {
   "cell_type": "markdown",
   "metadata": {},
   "source": [
    "DataFrame ini adalah pendataan kasus penyakit yang menyebar di suatu daerah yang bertujuan untuk melihat penyebaran penyakit dan berapa banyak yang terjangkit oleh penyakit tersebut."
   ]
  },
  {
   "cell_type": "markdown",
   "metadata": {},
   "source": [
    "b. Import necessary libraries, The first cell in the notebook must contain and only contain all the libraries used in the project.\n"
   ]
  },
  {
   "cell_type": "code",
   "execution_count": 93,
   "metadata": {},
   "outputs": [],
   "source": [
    "import pandas as pd"
   ]
  },
  {
   "cell_type": "markdown",
   "metadata": {},
   "source": [
    "\n",
    "c. Data Loading"
   ]
  },
  {
   "cell_type": "code",
   "execution_count": 94,
   "metadata": {},
   "outputs": [
    {
     "data": {
      "text/html": [
       "<div>\n",
       "<style scoped>\n",
       "    .dataframe tbody tr th:only-of-type {\n",
       "        vertical-align: middle;\n",
       "    }\n",
       "\n",
       "    .dataframe tbody tr th {\n",
       "        vertical-align: top;\n",
       "    }\n",
       "\n",
       "    .dataframe thead th {\n",
       "        text-align: right;\n",
       "    }\n",
       "</style>\n",
       "<table border=\"1\" class=\"dataframe\">\n",
       "  <thead>\n",
       "    <tr style=\"text-align: right;\">\n",
       "      <th></th>\n",
       "      <th>province_state</th>\n",
       "      <th>country_region</th>\n",
       "      <th>date</th>\n",
       "      <th>latitude</th>\n",
       "      <th>longitude</th>\n",
       "      <th>location_geom</th>\n",
       "      <th>confirmed</th>\n",
       "      <th>deaths</th>\n",
       "      <th>recovered</th>\n",
       "      <th>active</th>\n",
       "      <th>fips</th>\n",
       "      <th>admin2</th>\n",
       "      <th>combined_key</th>\n",
       "    </tr>\n",
       "  </thead>\n",
       "  <tbody>\n",
       "    <tr>\n",
       "      <th>0</th>\n",
       "      <td>NaN</td>\n",
       "      <td>Malaysia</td>\n",
       "      <td>2020-03-08</td>\n",
       "      <td>2.5000</td>\n",
       "      <td>112.5000</td>\n",
       "      <td>POINT(112.5 2.5)</td>\n",
       "      <td>99.0</td>\n",
       "      <td>0.0</td>\n",
       "      <td>24.0</td>\n",
       "      <td>NaN</td>\n",
       "      <td>NaN</td>\n",
       "      <td>NaN</td>\n",
       "      <td>NaN</td>\n",
       "    </tr>\n",
       "    <tr>\n",
       "      <th>1</th>\n",
       "      <td>NaN</td>\n",
       "      <td>Malaysia</td>\n",
       "      <td>2020-03-10</td>\n",
       "      <td>2.5000</td>\n",
       "      <td>112.5000</td>\n",
       "      <td>POINT(112.5 2.5)</td>\n",
       "      <td>129.0</td>\n",
       "      <td>0.0</td>\n",
       "      <td>24.0</td>\n",
       "      <td>NaN</td>\n",
       "      <td>NaN</td>\n",
       "      <td>NaN</td>\n",
       "      <td>NaN</td>\n",
       "    </tr>\n",
       "    <tr>\n",
       "      <th>2</th>\n",
       "      <td>NaN</td>\n",
       "      <td>Singapore</td>\n",
       "      <td>2020-03-13</td>\n",
       "      <td>1.3521</td>\n",
       "      <td>103.8198</td>\n",
       "      <td>POINT(103.8198 1.3521)</td>\n",
       "      <td>200.0</td>\n",
       "      <td>0.0</td>\n",
       "      <td>97.0</td>\n",
       "      <td>NaN</td>\n",
       "      <td>NaN</td>\n",
       "      <td>NaN</td>\n",
       "      <td>NaN</td>\n",
       "    </tr>\n",
       "    <tr>\n",
       "      <th>3</th>\n",
       "      <td>NaN</td>\n",
       "      <td>Malaysia</td>\n",
       "      <td>2020-03-13</td>\n",
       "      <td>4.2105</td>\n",
       "      <td>101.9758</td>\n",
       "      <td>POINT(101.9758 4.2105)</td>\n",
       "      <td>197.0</td>\n",
       "      <td>0.0</td>\n",
       "      <td>26.0</td>\n",
       "      <td>NaN</td>\n",
       "      <td>NaN</td>\n",
       "      <td>NaN</td>\n",
       "      <td>NaN</td>\n",
       "    </tr>\n",
       "    <tr>\n",
       "      <th>4</th>\n",
       "      <td>NaN</td>\n",
       "      <td>Malaysia</td>\n",
       "      <td>2020-03-15</td>\n",
       "      <td>4.2105</td>\n",
       "      <td>101.9758</td>\n",
       "      <td>POINT(101.9758 4.2105)</td>\n",
       "      <td>428.0</td>\n",
       "      <td>0.0</td>\n",
       "      <td>42.0</td>\n",
       "      <td>NaN</td>\n",
       "      <td>NaN</td>\n",
       "      <td>NaN</td>\n",
       "      <td>NaN</td>\n",
       "    </tr>\n",
       "  </tbody>\n",
       "</table>\n",
       "</div>"
      ],
      "text/plain": [
       "  province_state country_region        date  latitude  longitude  \\\n",
       "0            NaN       Malaysia  2020-03-08    2.5000   112.5000   \n",
       "1            NaN       Malaysia  2020-03-10    2.5000   112.5000   \n",
       "2            NaN      Singapore  2020-03-13    1.3521   103.8198   \n",
       "3            NaN       Malaysia  2020-03-13    4.2105   101.9758   \n",
       "4            NaN       Malaysia  2020-03-15    4.2105   101.9758   \n",
       "\n",
       "            location_geom  confirmed  deaths  recovered  active  fips  admin2  \\\n",
       "0        POINT(112.5 2.5)       99.0     0.0       24.0     NaN   NaN     NaN   \n",
       "1        POINT(112.5 2.5)      129.0     0.0       24.0     NaN   NaN     NaN   \n",
       "2  POINT(103.8198 1.3521)      200.0     0.0       97.0     NaN   NaN     NaN   \n",
       "3  POINT(101.9758 4.2105)      197.0     0.0       26.0     NaN   NaN     NaN   \n",
       "4  POINT(101.9758 4.2105)      428.0     0.0       42.0     NaN   NaN     NaN   \n",
       "\n",
       "  combined_key  \n",
       "0          NaN  \n",
       "1          NaN  \n",
       "2          NaN  \n",
       "3          NaN  \n",
       "4          NaN  "
      ]
     },
     "execution_count": 94,
     "metadata": {},
     "output_type": "execute_result"
    }
   ],
   "source": [
    "df = pd.read_csv('https://github.com/FTDS-learning-materials/phase-0/raw/main/src/data_ngc.csv')\n",
    "df.head()"
   ]
  },
  {
   "cell_type": "markdown",
   "metadata": {},
   "source": [
    "d. Data Cleaning, \n",
    "\n",
    "This section contains the data preparation process, such as data cleaning, before further data exploration. The cleaning process may include assigning new names to each column, filling in missing values, deleting unused columns, and so on."
   ]
  },
  {
   "cell_type": "code",
   "execution_count": 95,
   "metadata": {},
   "outputs": [],
   "source": [
    "df = df.drop(['fips', 'admin2', 'recovered', 'active', 'location_geom','combined_key'],axis=1)\n",
    "df = df.dropna()\n",
    "df['date'] = pd.to_datetime(df['date'])\n",
    "df['active_case'] = df['confirmed'] - df['deaths']"
   ]
  },
  {
   "cell_type": "markdown",
   "metadata": {},
   "source": [
    "e. Data Exploration, \n",
    "\n",
    "This section contains data exploration on the dataset above using queries, grouping, and so on."
   ]
  },
  {
   "cell_type": "code",
   "execution_count": 96,
   "metadata": {},
   "outputs": [
    {
     "data": {
      "text/plain": [
       "country_region  province_state   \n",
       "Malaysia        Johor                183340114.0\n",
       "                Kedah                140587320.0\n",
       "                Kelantan             119538703.0\n",
       "                Melaka                61011677.0\n",
       "                Negeri Sembilan       98025611.0\n",
       "                Pahang                79664464.0\n",
       "                Perak                101376931.0\n",
       "                Perlis                 7779846.0\n",
       "                Pulau Pinang         133675698.0\n",
       "                Sabah                182989419.0\n",
       "                Sarawak              155701847.0\n",
       "                Selangor             655172587.0\n",
       "                Terengganu            60051309.0\n",
       "                W.P. Kuala Lumpur    186055777.0\n",
       "                W.P. Labuan            9945442.0\n",
       "                W.P. Putrajaya        11009837.0\n",
       "Name: confirmed, dtype: float64"
      ]
     },
     "execution_count": 96,
     "metadata": {},
     "output_type": "execute_result"
    }
   ],
   "source": [
    "confirmed_data = df.groupby(['country_region', 'province_state']).confirmed.sum()\n",
    "confirmed_data"
   ]
  },
  {
   "cell_type": "code",
   "execution_count": 97,
   "metadata": {},
   "outputs": [
    {
     "data": {
      "text/plain": [
       "country_region  province_state   \n",
       "Malaysia        Johor                2461677.0\n",
       "                Kedah                1443311.0\n",
       "                Kelantan              804498.0\n",
       "                Melaka                631648.0\n",
       "                Negeri Sembilan       856382.0\n",
       "                Pahang                535045.0\n",
       "                Perak                1024163.0\n",
       "                Perlis                 92335.0\n",
       "                Pulau Pinang         1123191.0\n",
       "                Sabah                1769180.0\n",
       "                Sarawak              1029862.0\n",
       "                Selangor             6213502.0\n",
       "                Terengganu            464353.0\n",
       "                W.P. Kuala Lumpur    1650447.0\n",
       "                W.P. Labuan            91945.0\n",
       "                W.P. Putrajaya         21586.0\n",
       "Name: deaths, dtype: float64"
      ]
     },
     "execution_count": 97,
     "metadata": {},
     "output_type": "execute_result"
    }
   ],
   "source": [
    "deaths_data = df.groupby(['country_region', 'province_state']).deaths.sum()\n",
    "deaths_data"
   ]
  },
  {
   "cell_type": "code",
   "execution_count": 98,
   "metadata": {},
   "outputs": [
    {
     "data": {
      "text/plain": [
       "country_region  province_state   \n",
       "Malaysia        Johor                180878437.0\n",
       "                Kedah                139144009.0\n",
       "                Kelantan             118734205.0\n",
       "                Melaka                60380029.0\n",
       "                Negeri Sembilan       97169229.0\n",
       "                Pahang                79129419.0\n",
       "                Perak                100352768.0\n",
       "                Perlis                 7687511.0\n",
       "                Pulau Pinang         132552507.0\n",
       "                Sabah                181220239.0\n",
       "                Sarawak              154671985.0\n",
       "                Selangor             648959085.0\n",
       "                Terengganu            59586956.0\n",
       "                W.P. Kuala Lumpur    184405330.0\n",
       "                W.P. Labuan            9853497.0\n",
       "                W.P. Putrajaya        10988251.0\n",
       "Name: active_case, dtype: float64"
      ]
     },
     "execution_count": 98,
     "metadata": {},
     "output_type": "execute_result"
    }
   ],
   "source": [
    "active_case = df.groupby(['country_region','province_state'])['active_case'].sum()\n",
    "active_case"
   ]
  },
  {
   "cell_type": "markdown",
   "metadata": {},
   "source": [
    "f. ConclusionIn this final section \n",
    "\n",
    "there must be conclusions that reflect the results obtained by comparing them with the problem statement written in the introduction section."
   ]
  },
  {
   "cell_type": "markdown",
   "metadata": {},
   "source": [
    "Kesimpulan : masih banyak penderita aktif yang terjangkit penyakit di malaysia"
   ]
  }
 ],
 "metadata": {
  "kernelspec": {
   "display_name": "base",
   "language": "python",
   "name": "python3"
  },
  "language_info": {
   "codemirror_mode": {
    "name": "ipython",
    "version": 3
   },
   "file_extension": ".py",
   "mimetype": "text/x-python",
   "name": "python",
   "nbconvert_exporter": "python",
   "pygments_lexer": "ipython3",
   "version": "3.12.4"
  }
 },
 "nbformat": 4,
 "nbformat_minor": 2
}
