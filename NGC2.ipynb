{
 "cells": [
  {
   "cell_type": "markdown",
   "metadata": {},
   "source": [
    "# Non Graded Challenge : Python Function, Conditional, and Loop"
   ]
  },
  {
   "cell_type": "markdown",
   "metadata": {},
   "source": [
    "## Task #1 - Number of Word"
   ]
  },
  {
   "cell_type": "markdown",
   "metadata": {},
   "source": [
    "##### Create a function that count the number of word in a sentence."
   ]
  },
  {
   "cell_type": "code",
   "execution_count": 4,
   "metadata": {},
   "outputs": [
    {
     "name": "stdout",
     "output_type": "stream",
     "text": [
      "Jumlah kata di dalam 'Hello World!' : 2\n",
      "Jumlah kata di dalam 'Once Upon a Time in a faraway land' : 8\n"
     ]
    }
   ],
   "source": [
    "'''\n",
    "Example:\n",
    "\n",
    "-Input: number_of_word(sentence = ’Hello World!’)\n",
    "-Output: 2\n",
    "\n",
    "-Input: number_of_word(sentence = ’Once Upon a Time in a faraway land’)\n",
    "-Output: 8\n",
    "'''\n",
    "# Membuat function number_of_word\n",
    "def number_of_word(sentence):\n",
    "    '''\n",
    "    Menghitung jumlah kata di dalam sebuah kalimat yang di input\n",
    "    menggunakan function number_of_word\n",
    "    '''\n",
    "    # Split sentence kemudian akan di return legnth dari kata di dalam sentence\n",
    "    x = sentence.split()  \n",
    "    return len(x)\n",
    "\n",
    "# Output menggunakan function function number_of_word menggunakan argumen example\n",
    "print(f'Jumlah kata di dalam \\'Hello World!\\' : {number_of_word('Hello World!')}')\n",
    "print(f'Jumlah kata di dalam \\'Once Upon a Time in a faraway land\\' : {number_of_word('Once Upon a Time in a faraway land')}')"
   ]
  },
  {
   "cell_type": "markdown",
   "metadata": {},
   "source": [
    "## Task #2 - Find Multiple"
   ]
  },
  {
   "cell_type": "markdown",
   "metadata": {},
   "source": [
    "##### Create a function that will get list of number(s) from a certain range that multiples of given number."
   ]
  },
  {
   "cell_type": "code",
   "execution_count": 10,
   "metadata": {},
   "outputs": [
    {
     "name": "stdout",
     "output_type": "stream",
     "text": [
      "Hasil dari function find_multiple: [5, 10, 15, 20]\n",
      "Hasil dari function find_multiple: [10, 20, 30, 40, 50]\n"
     ]
    }
   ],
   "source": [
    "'''\n",
    "Example:\n",
    "\n",
    "Input: find_multiple(start_range= 1, end_range= 20, multiple= 5)\n",
    "Output: [5, 10, 15, 20]\n",
    "\n",
    "Input: find_multiple(start_range= 1, end_range= 50, multiple= 10)\n",
    "Output: [10, 20, 30, 40, 50]\n",
    "\n",
    "'''\n",
    "\n",
    "# Membuat function find_multiple\n",
    "def find_multiple(start_range, end_range, multiple):\n",
    "    '''\n",
    "    membuat function menghitung range berdasarkan 'star_range',\n",
    "    'end_range' dan 'multiple'.\n",
    "    '''\n",
    "    # Assign variable X\n",
    "    x = []\n",
    "    # Memulai loop untuk mendapatkan hasil dari range\n",
    "    for i in range(start_range-1, end_range+1, multiple):\n",
    "        x.append(i)\n",
    "    return x[1:]\n",
    "\n",
    "# Output menggunakan function menggunakan argumen example\n",
    "print(f'Hasil dari function find_multiple: {find_multiple(start_range= 1, end_range= 20, multiple= 5)}')\n",
    "print(f'Hasil dari function find_multiple: {find_multiple(start_range= 1, end_range= 50, multiple= 10)}')"
   ]
  },
  {
   "cell_type": "markdown",
   "metadata": {},
   "source": [
    "## Task #3 - Grade Converter"
   ]
  },
  {
   "cell_type": "markdown",
   "metadata": {},
   "source": [
    "##### Create a function that will convert student’s grade to GPA.Instruction:"
   ]
  },
  {
   "cell_type": "code",
   "execution_count": 15,
   "metadata": {},
   "outputs": [
    {
     "name": "stdout",
     "output_type": "stream",
     "text": [
      "Nilai yang sudah diubah : ['Adam: 2.5', 'Faiz: 4']\n",
      "Nilai yang sudah diubah : ['Albert: A', 'Dwi: B', 'Syahdan: D', 'Veronica: B']\n"
     ]
    }
   ],
   "source": [
    "'''\n",
    "Example:\n",
    "\n",
    "Input: Grade_Converter(convert_to='gpa', Adam=62, Faiz=91)\n",
    "Output: {'Adam': 2.5, 'Faiz': 4}\n",
    "\n",
    "Input: Grade_Converter(convert_to='letter_grade', Albert=90, Dwi=82, Syahdan=58, Veronica=84)\n",
    "Output: {'Albert': 'A', 'Dwi': 'B', 'Syahdan': 'D','Veronica': 'B'}\n",
    "'''\n",
    "\n",
    "# Membuat function Grade_Converter\n",
    "def Grade_Converter(convert_to, **kwargs):\n",
    "    '''\n",
    "    Function melakukan convert nilai sesuai dengan argumen yang akan di input ke dalam convert_to\n",
    "    '''\n",
    "    # Membuat conditional statements untuk meilihat input ingin mengubah menjadi letter_grade atau GPA\n",
    "    if convert_to == 'letter_grade':\n",
    "        stud = [] # Assign variable stud\n",
    "        # Membuat looping dari keys dari input argumen\n",
    "        for x,y in kwargs.items(): \n",
    "            # Menentukan nilai akan di convert menjadi nilai letter_grade\n",
    "            if y >= 85 and y <=100:\n",
    "                stud.append(f'{x}: A')\n",
    "            elif y >= 70 and y < 85:\n",
    "                stud.append(f'{x}: B')\n",
    "            elif y >= 60 and y < 70:\n",
    "                stud.append(f'{x}: C')\n",
    "            elif y >= 50 and y < 60:\n",
    "                stud.append(f'{x}: D')\n",
    "            elif y >= 40 and y < 50:\n",
    "                stud.append(f'{x}: E')\n",
    "            elif y < 40:\n",
    "                stud.append(f'{x}: F')\n",
    "        return stud\n",
    "    # Apabila input tidak ingin mengubah menjadi letter_grade\n",
    "    else:\n",
    "        stud = [] # Assign variable\n",
    "        for x,y in kwargs.items(): \n",
    "            if y >= 85 and y <=100:\n",
    "                stud.append(f'{x}: 4')\n",
    "            elif y >= 70 and y < 85:\n",
    "                stud.append(f'{x}: 3')\n",
    "            elif y >= 60 and y < 70:\n",
    "                stud.append(f'{x}: 2.5')\n",
    "            elif y >= 50 and y < 60:\n",
    "                stud.append(f'{x}: 2')\n",
    "            elif y >= 40 and y < 50:\n",
    "                stud.append(f'{x}: 1.5')\n",
    "            elif y < 40:\n",
    "                stud.append(f'{x}: 1')\n",
    "        return stud\n",
    "\n",
    "print(f'Nilai yang sudah diubah : {Grade_Converter(convert_to='gpa', Adam=62, Faiz=91)}')\n",
    "print(f'Nilai yang sudah diubah : {Grade_Converter(convert_to='letter_grade', Albert=90, Dwi=82, Syahdan=58, Veronica=84)}')"
   ]
  },
  {
   "cell_type": "markdown",
   "metadata": {},
   "source": [
    "## Task #4 - Fibonacci Sequence"
   ]
  },
  {
   "cell_type": "markdown",
   "metadata": {},
   "source": [
    "##### create a function that will return the value of n-th fibonacci number."
   ]
  },
  {
   "cell_type": "code",
   "execution_count": 19,
   "metadata": {},
   "outputs": [
    {
     "name": "stdout",
     "output_type": "stream",
     "text": [
      "Fibonacci number ke-0: 0\n",
      "Fibonacci number ke-4: 3\n",
      "Fibonacci number ke-10: 55\n"
     ]
    }
   ],
   "source": [
    "'''\n",
    "Example:\n",
    "\n",
    "Input: my_function(n=0)\n",
    "Output: 0\n",
    "\n",
    "Input: my_function(n=4)\n",
    "Output: 3\n",
    "\n",
    "Input: my_function(n=10)\n",
    "Output: 55\n",
    "'''\n",
    "# Membuat function my_function\n",
    "def my_function(n):\n",
    "    '''\n",
    "    Function menghitung berapa angka pada urutan yang akan di input\n",
    "    '''\n",
    "    # Assign variable x \n",
    "    x = [0,1]\n",
    "    # Melakukan loop di dalam range dengan input argumen\n",
    "    for i in range(n):\n",
    "        x.append(x[i]+x[i+1])\n",
    "    return x[n]\n",
    "\n",
    "# Mebuat output berdasarkan input argumen pada example\n",
    "print(f'Fibonacci number ke-0: {my_function(n=0)}')\n",
    "print(f'Fibonacci number ke-4: {my_function(n=4)}')\n",
    "print(f'Fibonacci number ke-10: {my_function(n=10)}')"
   ]
  }
 ],
 "metadata": {
  "kernelspec": {
   "display_name": "base",
   "language": "python",
   "name": "python3"
  },
  "language_info": {
   "codemirror_mode": {
    "name": "ipython",
    "version": 3
   },
   "file_extension": ".py",
   "mimetype": "text/x-python",
   "name": "python",
   "nbconvert_exporter": "python",
   "pygments_lexer": "ipython3",
   "version": "3.12.4"
  }
 },
 "nbformat": 4,
 "nbformat_minor": 2
}
