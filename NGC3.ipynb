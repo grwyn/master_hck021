{
 "cells": [
  {
   "cell_type": "markdown",
   "metadata": {},
   "source": [
    "# Non Graded Challenge : OOP and Exception Handling"
   ]
  },
  {
   "cell_type": "markdown",
   "metadata": {},
   "source": [
    "## Task"
   ]
  },
  {
   "cell_type": "code",
   "execution_count": 41,
   "metadata": {},
   "outputs": [],
   "source": [
    "class Book():\n",
    "    def __init__(self, title, author, unique_id):\n",
    "        self.title = title\n",
    "        self.author = author\n",
    "        self.unique_id = unique_id\n",
    "    \n",
    "    def __str__(self):\n",
    "        return f'''Title : {self.title}\\nAuthor : {self.author}\\nUnique ID : {self.unique_id}'''\n",
    "\n",
    "class Catalog():\n",
    "    def __init__(self):\n",
    "        self.book = []\n",
    "\n",
    "    def add_book(self, new_book):\n",
    "        for book in self.book:\n",
    "            if book.unique_id == new_book.unique_id:\n",
    "                raise ValueError('ID harus unique')\n",
    "            else:        \n",
    "                self.book.append(new_book)\n",
    "                print('Buku berhasil ditambahkan')\n",
    "\n",
    "    def search_by_author(self, author_name):\n",
    "        if not author_name:\n",
    "            raise ValueError(\"harus masukan penulis buku\")\n",
    "        else:\n",
    "            found_books = [book for book in self.book if author_name.lower() in book.author.lower()]\n",
    "        if not found_books:\n",
    "            raise ValueError(f\"tidak ada buku dengan judul {author_name}\")\n",
    "        else:\n",
    "            return found_books\n",
    "            \n",
    "    def search_by_title(self, title_name):\n",
    "        if not title_name:\n",
    "            raise ValueError(\"harus masukan judul buku\")\n",
    "        else:\n",
    "            found_books = [book for book in self.book if title_name.lower() in book.title.lower()]\n",
    "        if not found_books:\n",
    "            raise ValueError(f\"tidak ada buku dengan judul {title_name}\")\n",
    "        else:\n",
    "            return found_books\n",
    "    \n",
    "    def remove_book(self, id):\n",
    "        book_to_remove = None\n",
    "        for book in self.book:\n",
    "            if book.unique_id == id:\n",
    "                book_to_remove = book\n",
    "                break\n",
    "        if book_to_remove:\n",
    "            self.book.remove(book_to_remove)\n",
    "            return book_to_remove\n",
    "        else:\n",
    "            raise ValueError(f'Tidak ada buku dengan id {id}')\n",
    "\n",
    "    \n",
    "    def display_books(self):\n",
    "        if not self.book:\n",
    "            print('tidak ada buku di dalam catalog')\n",
    "        else:\n",
    "            for book in self.book:\n",
    "                print('-'*30)\n",
    "                print(book)"
   ]
  },
  {
   "cell_type": "code",
   "execution_count": 42,
   "metadata": {},
   "outputs": [
    {
     "ename": "ValueError",
     "evalue": "tidak ada buku dengan judul The Lord of the Rings",
     "output_type": "error",
     "traceback": [
      "\u001b[1;31m---------------------------------------------------------------------------\u001b[0m",
      "\u001b[1;31mValueError\u001b[0m                                Traceback (most recent call last)",
      "Cell \u001b[1;32mIn[42], line 11\u001b[0m\n\u001b[0;32m      8\u001b[0m catalog\u001b[38;5;241m.\u001b[39madd_book(book2)\n\u001b[0;32m      9\u001b[0m catalog\u001b[38;5;241m.\u001b[39madd_book(book3)\n\u001b[1;32m---> 11\u001b[0m found_books \u001b[38;5;241m=\u001b[39m catalog\u001b[38;5;241m.\u001b[39msearch_by_title(\u001b[38;5;124m\"\u001b[39m\u001b[38;5;124mThe Lord of the Rings\u001b[39m\u001b[38;5;124m\"\u001b[39m)\n\u001b[0;32m     12\u001b[0m \u001b[38;5;28mprint\u001b[39m(\u001b[38;5;124m\"\u001b[39m\u001b[38;5;124mBuku yang ditemukan berdasarkan judul:\u001b[39m\u001b[38;5;124m\"\u001b[39m)\n\u001b[0;32m     13\u001b[0m \u001b[38;5;28;01mfor\u001b[39;00m book \u001b[38;5;129;01min\u001b[39;00m found_books:\n",
      "Cell \u001b[1;32mIn[41], line 38\u001b[0m, in \u001b[0;36mCatalog.search_by_title\u001b[1;34m(self, title_name)\u001b[0m\n\u001b[0;32m     36\u001b[0m     found_books \u001b[38;5;241m=\u001b[39m [book \u001b[38;5;28;01mfor\u001b[39;00m book \u001b[38;5;129;01min\u001b[39;00m \u001b[38;5;28mself\u001b[39m\u001b[38;5;241m.\u001b[39mbook \u001b[38;5;28;01mif\u001b[39;00m title_name\u001b[38;5;241m.\u001b[39mlower() \u001b[38;5;129;01min\u001b[39;00m book\u001b[38;5;241m.\u001b[39mtitle\u001b[38;5;241m.\u001b[39mlower()]\n\u001b[0;32m     37\u001b[0m \u001b[38;5;28;01mif\u001b[39;00m \u001b[38;5;129;01mnot\u001b[39;00m found_books:\n\u001b[1;32m---> 38\u001b[0m     \u001b[38;5;28;01mraise\u001b[39;00m \u001b[38;5;167;01mValueError\u001b[39;00m(\u001b[38;5;124mf\u001b[39m\u001b[38;5;124m\"\u001b[39m\u001b[38;5;124mtidak ada buku dengan judul \u001b[39m\u001b[38;5;132;01m{\u001b[39;00mtitle_name\u001b[38;5;132;01m}\u001b[39;00m\u001b[38;5;124m\"\u001b[39m)\n\u001b[0;32m     39\u001b[0m \u001b[38;5;28;01melse\u001b[39;00m:\n\u001b[0;32m     40\u001b[0m     \u001b[38;5;28;01mreturn\u001b[39;00m found_books\n",
      "\u001b[1;31mValueError\u001b[0m: tidak ada buku dengan judul The Lord of the Rings"
     ]
    }
   ],
   "source": [
    "catalog = Catalog()\n",
    "\n",
    "book1 = Book(\"Harry Potter\", \"J.K. Rowlings\", \"1\")\n",
    "book2 = Book(\"The Lord of the Rings\", \"J.R.R. Tolkien\", \"2\")\n",
    "book3 = Book(\"The Hobbit\", \"J.R.R. Tolkien\", \"3\")\n",
    "\n",
    "catalog.add_book(book1)\n",
    "catalog.add_book(book2)\n",
    "catalog.add_book(book3)\n",
    "\n",
    "found_books = catalog.search_by_title(\"The Lord of the Rings\")\n",
    "print(\"Buku yang ditemukan berdasarkan judul:\")\n",
    "for book in found_books:\n",
    "    print(book)\n",
    "    print(\"---\"*10)\n",
    "\n",
    "# Cari buku berdasarkan penulis\n",
    "found_books = catalog.search_by_author(\"J.K. Rowlings\")\n",
    "print(\"Buku yang ditemukan berdasarkan penulis:\")\n",
    "for book in found_books:\n",
    "    print(book)\n",
    "    print(\"---\"*10)\n",
    "\n",
    "# Tampilkan semua buku\n",
    "print(\"Katalog sebelum buku dihapus:\")\n",
    "catalog.display_books()\n",
    "\n",
    "# Hapus buku dari catalog\n",
    "removed_book = catalog.remove_book(\"2\")\n",
    "print(\"Buku yang dihapus:\")\n",
    "print(removed_book)\n",
    "\n",
    "# Tampilkan semua buku\n",
    "print(\"Katalog sesudah buku dihapus:\")\n",
    "catalog.display_books()"
   ]
  }
 ],
 "metadata": {
  "kernelspec": {
   "display_name": "base",
   "language": "python",
   "name": "python3"
  },
  "language_info": {
   "codemirror_mode": {
    "name": "ipython",
    "version": 3
   },
   "file_extension": ".py",
   "mimetype": "text/x-python",
   "name": "python",
   "nbconvert_exporter": "python",
   "pygments_lexer": "ipython3",
   "version": "3.12.4"
  }
 },
 "nbformat": 4,
 "nbformat_minor": 2
}
