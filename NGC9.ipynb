{
 "cells": [
  {
   "cell_type": "code",
   "execution_count": 1,
   "metadata": {},
   "outputs": [],
   "source": [
    "from selenium import webdriver\n",
    "from bs4 import BeautifulSoup\n",
    "import requests\n",
    "from selenium.webdriver.chrome.service import Service\n",
    "import time\n",
    "import numpy as np\n",
    "\n",
    "# service = Service(exxecutable_path='chromedriver.exe')\n",
    "driver = webdriver.Edge()\n",
    "\n",
    "coins = []\n",
    "prices = []\n",
    "market_caps = []\n",
    "volumes = []\n",
    "coin_supplies = []\n",
    "\n",
    "for i in range(1,11):\n",
    "    url='https://coinmarketcap.com/?page={}'.format(i)\n",
    "    driver.get(url)\n",
    "    html = driver.page_source\n",
    "    soup = BeautifulSoup(html, 'html.parser')\n",
    "\n",
    "    rentang = 1000\n",
    "    for i in range(1,10):\n",
    "        akhir = rentang * i\n",
    "        perintah = \"window.scrollTo(0,\"+str(akhir)+\")\"\n",
    "        driver.execute_script(perintah)\n",
    "    \n",
    "    for coin in soup.find_all('p', {'class':'sc-71024e3e-0 ehyBa-d'}):\n",
    "        if coin != None:\n",
    "            coin = coin.get_text()\n",
    "            coins.append(coin)\n",
    "        else:\n",
    "            coin = 'np.nan'\n",
    "            coins.append(coin)\n",
    "    \n",
    "    for price in soup.find_all('div',{'class':'sc-b3fc6b7-0 dzgUIj'}):\n",
    "        if price != None:\n",
    "            price = price.get_text()\n",
    "            prices.append(price)\n",
    "        else:\n",
    "            price = 'np.nan' \n",
    "            prices.append(price)   \n",
    "    \n",
    "    for market_cap in soup.find_all('span',{'class':'sc-11478e5d-1 jfwGHx'}):\n",
    "        if market_cap != None:\n",
    "            market_cap = market_cap.get_text()\n",
    "            market_caps.append(market_cap)\n",
    "        else:\n",
    "            market_cap = 'np.nan'\n",
    "            market_caps.append(market_cap)\n",
    "    \n",
    "    for volume in soup.find_all('p', {'class':'sc-71024e3e-0 bbHOdE font_weight_500'}):\n",
    "        if volume != None:\n",
    "            volume = volume.get_text()\n",
    "            volumes.append(volume)\n",
    "        else:\n",
    "            volume = 'np.nan'\n",
    "            volumes.append(volume)\n",
    "\n",
    "    for coin_supply in soup.find_all('p', {'class':'sc-71024e3e-0 hhmVNu'}):\n",
    "        if coin_supply != None:\n",
    "            coin_supply = coin_supply.get_text()\n",
    "            coin_supplies.append(coin_supply)\n",
    "        else:\n",
    "            coin_supply = 'np.nan'\n",
    "            coin_supplies.append(coin_supply)\n",
    "\n",
    "driver.quit()"
   ]
  },
  {
   "cell_type": "code",
   "execution_count": 2,
   "metadata": {},
   "outputs": [
    {
     "name": "stdout",
     "output_type": "stream",
     "text": [
      "216\n",
      "122\n",
      "120\n",
      "120\n",
      "120\n"
     ]
    }
   ],
   "source": [
    "print(len(coins))\n",
    "print(len(prices))\n",
    "print(len(market_caps))\n",
    "print(len(volumes))\n",
    "print(len(coin_supplies))"
   ]
  },
  {
   "cell_type": "code",
   "execution_count": 29,
   "metadata": {},
   "outputs": [
    {
     "name": "stdout",
     "output_type": "stream",
     "text": [
      "['$57,914.43', '$2,289.91', '$0.9999', '$535.71', '$131.84', '$0.9999', '$0.5689', '$0.1002', '$5.45', '$0.1481', '$0.332', '$23.58', '$0.00001317', '$1.44', '$0.9494', '$3.21', '$0.1971', '$0.265', '$1.44', '$0.0009618', '$0.9985', '$2,583.67', '$0.127', '$0.4149', '$28.89', '$0.00008146', '$0.0302', '$0.9985', '$3.01', '$4.65', '$17.12', '$2.50', '$0.9969', '$0.6573', '$0.05403', '$1.06', '$0.3221', '$0.004712', '$1.90', '$0.006332', '$0.052318', '$0.052318', '$0.1248', '$1.42', '$0.1079', '$0.2585', '$0.1157', '$0.6038', '$0.2912', '$0.03759', '$1.77', '$0.01454', '$0.3944', '$0.393', '$5.30', '$6.25', '$2.16', '$0.09963', '$0.00003155', '$0.1896', '$0.005936', '$0.2523', '$0.02228', '$0.7781', '$0.7116', '$0.1367', '$0.07556', '$0.2444', '$0.0383', '$0.05691', '$0.6785', '$0.05294', '$0.1204', '$0.1174', '$0.00005358', '$0.06529', '$20.43', '$0.3606', '$0.9988', '$0.003175', '$0.04227', '$0.2793', '$0.1991', '$18.94', '$0.03594', '$0.0351', '$0.003237', '$0.3175', '$0.04223', '$0.1547', '$0.03856', '$0.0003068', '$2.07', '$0.00006298', '$0.04039', '$0.003882', '$0.01224', '$0.003628', '$0.294', '$0.0764', '$1.12', '$0.05805', '$0.092589', '$0.092589', '$0.2488', '$3.74', '$0.2661', '$0.076975', '$0.076975', '$0.1974', '$0.08473', '$0.001067', '$0.9969', '$0.1975', '$0.2149', '$0.01399', '$0.582', '$0.08332', '$0.05974', '$1,296.88', '$1.14', '$0.1212', '$1.38', '$0.3486', '$0.004875', '$0.052186', '$0.052186', '$0.86', '$0.2049', '$0.1031', '$0.1457', '$0.093174', '$0.093174', '$0.072713', '$0.072713']\n"
     ]
    }
   ],
   "source": [
    "print(prices)"
   ]
  }
 ],
 "metadata": {
  "kernelspec": {
   "display_name": "base",
   "language": "python",
   "name": "python3"
  },
  "language_info": {
   "codemirror_mode": {
    "name": "ipython",
    "version": 3
   },
   "file_extension": ".py",
   "mimetype": "text/x-python",
   "name": "python",
   "nbconvert_exporter": "python",
   "pygments_lexer": "ipython3",
   "version": "3.12.4"
  }
 },
 "nbformat": 4,
 "nbformat_minor": 2
}
