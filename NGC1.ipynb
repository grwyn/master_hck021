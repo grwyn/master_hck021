{
 "cells": [
  {
   "cell_type": "markdown",
   "metadata": {},
   "source": [
    "# Non Graded Challenge : Python Syntax, Variables, and Data Type"
   ]
  },
  {
   "cell_type": "markdown",
   "metadata": {},
   "source": [
    "## Task #1"
   ]
  },
  {
   "cell_type": "markdown",
   "metadata": {},
   "source": [
    "##### How many unique customer_id from above list?"
   ]
  },
  {
   "cell_type": "code",
   "execution_count": 1,
   "metadata": {},
   "outputs": [
    {
     "name": "stdout",
     "output_type": "stream",
     "text": [
      "12\n"
     ]
    }
   ],
   "source": [
    "customer_id = ['B818', 'A461', 'A092', 'A082', 'B341', \n",
    "               'A005', 'A092', 'A461','B219', 'B904', \n",
    "               'A901', 'A083', 'B904', 'A092', 'B341', \n",
    "               'B821','B341', 'B821', 'B904', 'B818', \n",
    "               'A901', 'A083', 'B818', 'A082','B219', \n",
    "               'B219', 'A083', 'A901', 'A082', 'B341', \n",
    "               'B341', 'A083','A082', 'B219', 'B439', \n",
    "               'A461', 'A005', 'A901', 'B341', 'A082',\n",
    "               'A083', 'A461', 'A083', 'A901', 'A461', \n",
    "               'A083', 'A082', 'A083','B341', 'A901', \n",
    "               'A082', 'A461', 'B219', 'A083', 'B818', \n",
    "               'B821','A092', 'B341', 'A461', 'A092', \n",
    "               'A083', 'B821', 'A092']\n",
    "\n",
    "# Assign variable unique_customer_id\n",
    "unique_customer_id = list(set(customer_id))\n",
    "# Print the total of unique customer id\n",
    "print(len(unique_customer_id))"
   ]
  },
  {
   "cell_type": "markdown",
   "metadata": {},
   "source": [
    "## Task #2"
   ]
  },
  {
   "cell_type": "code",
   "execution_count": 7,
   "metadata": {},
   "outputs": [
    {
     "name": "stdout",
     "output_type": "stream",
     "text": [
      "16\n",
      "[36, 49, 64, 81]\n",
      "[100, 81, 64, 49, 36, 25, 16, 9, 4, 1]\n"
     ]
    }
   ],
   "source": [
    "Data = [1, 4, 9, 16, 25, 36, 49,  64, 81, 100]\n",
    "\n",
    "# Use indexing so you can get this output:\n",
    "\n",
    "# a.16\n",
    "print(Data[3])\n",
    "\n",
    "# b.[36, 49, 64, 81]\n",
    "print(Data[5:-1])\n",
    "\n",
    "# c.[100, 81, 64, 49, 36, 25, 16, 9, 4, 1]\n",
    "# Assign variable x\n",
    "x = []\n",
    "# Looping dari range 1 sampai dengan length data ditambah 1 agar inklusif\n",
    "for i in range(1, len(Data)+1):\n",
    "    x.append(Data[-i])\n",
    "print(x)"
   ]
  },
  {
   "cell_type": "markdown",
   "metadata": {},
   "source": [
    "## Task #3"
   ]
  },
  {
   "cell_type": "code",
   "execution_count": 3,
   "metadata": {},
   "outputs": [
    {
     "name": "stdout",
     "output_type": "stream",
     "text": [
      "dict_keys(['Nanggroe Aceh Darussalam', 'Sumatera Selatan', 'Kalimantan Barat', 'Jawa Timur', 'Sulawesi Selatan', 'Maluku'])\n",
      "The value of Jawa Timur : Surabaya\n"
     ]
    }
   ],
   "source": [
    "provinsi = {'Nanggroe Aceh Darussalam': 'Aceh',\n",
    "            'Sumatera Selatan': 'Palembang',\n",
    "            'Kalimantan Barat': 'Pontianak',\n",
    "            'Jawa Timur': 'Madiun',\n",
    "            'Sulawesi Selatan': 'Makassar',\n",
    "            'Maluku': 'Ambon'}\n",
    "\n",
    "# What python command can be use to:\n",
    "\n",
    "# a.Get list of keys available in dictionary\n",
    "print(provinsi.keys())\n",
    "\n",
    "# b.Change 'Jawa Timur' value from 'Madiun'  to 'Surabaya'\n",
    "# Select the key of the dictionary then change the value\n",
    "provinsi['Jawa Timur'] = 'Surabaya'\n",
    "# Print the result\n",
    "print(f'The value of Jawa Timur : {provinsi['Jawa Timur']}')"
   ]
  }
 ],
 "metadata": {
  "kernelspec": {
   "display_name": "base",
   "language": "python",
   "name": "python3"
  },
  "language_info": {
   "codemirror_mode": {
    "name": "ipython",
    "version": 3
   },
   "file_extension": ".py",
   "mimetype": "text/x-python",
   "name": "python",
   "nbconvert_exporter": "python",
   "pygments_lexer": "ipython3",
   "version": "3.12.4"
  }
 },
 "nbformat": 4,
 "nbformat_minor": 2
}
