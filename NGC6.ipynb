{
 "cells": [
  {
   "cell_type": "code",
   "execution_count": null,
   "metadata": {},
   "outputs": [],
   "source": [
    "from google.colab import auth\n",
    "from google.cloud import bigquery\n",
    "import pandas as pd\n",
    "\n",
    "auth.authenticate_user()"
   ]
  },
  {
   "cell_type": "code",
   "execution_count": null,
   "metadata": {},
   "outputs": [],
   "source": [
    "# project_id = \"your_project_id\"\n",
    "# client = bigquery.Client(project=project_id)\n",
    "# # put your query here\n",
    "# query = \"\"\"SELECT*FROM`bigquery-public-data.austin_bikeshare.bikeshare_trips`'\"\"\"\n",
    "# # Set up the query\n",
    "# query_job = client.query(query).to_dataframe()\n",
    "# query_job"
   ]
  },
  {
   "cell_type": "code",
   "execution_count": null,
   "metadata": {},
   "outputs": [],
   "source": [
    "client = bigquery.Client()\n",
    "query = \"\"\"\n",
    "SELECT * FROM `bigquery-public-data.austin_bikeshare.bikeshare_trips`\n",
    "\"\"\""
   ]
  }
 ],
 "metadata": {
  "kernelspec": {
   "display_name": "base",
   "language": "python",
   "name": "python3"
  },
  "language_info": {
   "name": "python",
   "version": "3.12.4"
  }
 },
 "nbformat": 4,
 "nbformat_minor": 2
}
