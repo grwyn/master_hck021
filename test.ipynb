{
 "cells": [
  {
   "cell_type": "markdown",
   "metadata": {},
   "source": [
    "=================================================\n",
    "\n",
    "Non Graded Challenge: ML Problem Framing and Data Cleaning\n",
    "\n",
    "Nama  : Gerwyn Zulqarnain\n",
    "Batch : HCK-021\n",
    "\n",
    "Program ini dibuat untuk menganalisa berapa biaya yang harus dibayarkan untuk mendapatkan asuransi kesehatan.\n",
    "\n",
    "================================================="
   ]
  },
  {
   "cell_type": "markdown",
   "metadata": {},
   "source": [
    "### Introduction"
   ]
  },
  {
   "cell_type": "markdown",
   "metadata": {},
   "source": [
    "SMART\n",
    "<br>\n",
    "S : Menghitung estimasi harga untuk asuransi kesehatan<br>\n",
    "M : Dengan menggunakan 6 kolom sebagai feature untuk mendapatkan target<br>\n",
    "A : Menggunakan machine learning<br>\n",
    "R : Dengan menggunakan machine learning maka kita dapat mengetahui estimasi harga dari asuransi kesehatan<br>\n",
    "T : Dalam waktu 7 hari dapat menyelesaikan machine learning<br>\n",
    "\n",
    "problem statement :<br>\n",
    "Kita ingin mengetahui berapa kira-kira estimasi harga dari asuransi kesehatan dengan melakukan input data dalam 6 kolom sebagai feature yang kemudian akan di proses oleh machine learning agar mendapatkan target."
   ]
  },
  {
   "cell_type": "markdown",
   "metadata": {},
   "source": [
    "#### Import Libraries"
   ]
  },
  {
   "cell_type": "code",
   "execution_count": 178,
   "metadata": {},
   "outputs": [],
   "source": [
    "import pandas as pd\n",
    "import numpy as np\n",
    "import matplotlib.pyplot as plt\n",
    "import seaborn as sns\n",
    "from scipy import stats\n",
    "from sklearn.model_selection import train_test_split"
   ]
  },
  {
   "cell_type": "markdown",
   "metadata": {},
   "source": [
    "#### Data Loading"
   ]
  },
  {
   "cell_type": "code",
   "execution_count": 179,
   "metadata": {},
   "outputs": [],
   "source": [
    "data = pd.read_csv('https://raw.githubusercontent.com/FTDS-learning-materials/datasets/main/insurance.csv')"
   ]
  },
  {
   "cell_type": "markdown",
   "metadata": {},
   "source": [
    "### Exploratory Data Analysis"
   ]
  },
  {
   "cell_type": "code",
   "execution_count": 180,
   "metadata": {},
   "outputs": [
    {
     "data": {
      "text/html": [
       "<div>\n",
       "<style scoped>\n",
       "    .dataframe tbody tr th:only-of-type {\n",
       "        vertical-align: middle;\n",
       "    }\n",
       "\n",
       "    .dataframe tbody tr th {\n",
       "        vertical-align: top;\n",
       "    }\n",
       "\n",
       "    .dataframe thead th {\n",
       "        text-align: right;\n",
       "    }\n",
       "</style>\n",
       "<table border=\"1\" class=\"dataframe\">\n",
       "  <thead>\n",
       "    <tr style=\"text-align: right;\">\n",
       "      <th></th>\n",
       "      <th>age</th>\n",
       "      <th>sex</th>\n",
       "      <th>bmi</th>\n",
       "      <th>children</th>\n",
       "      <th>smoker</th>\n",
       "      <th>region</th>\n",
       "      <th>charges</th>\n",
       "    </tr>\n",
       "  </thead>\n",
       "  <tbody>\n",
       "    <tr>\n",
       "      <th>0</th>\n",
       "      <td>19</td>\n",
       "      <td>female</td>\n",
       "      <td>27.900</td>\n",
       "      <td>0</td>\n",
       "      <td>yes</td>\n",
       "      <td>southwest</td>\n",
       "      <td>16884.92400</td>\n",
       "    </tr>\n",
       "    <tr>\n",
       "      <th>1</th>\n",
       "      <td>18</td>\n",
       "      <td>male</td>\n",
       "      <td>33.770</td>\n",
       "      <td>1</td>\n",
       "      <td>no</td>\n",
       "      <td>southeast</td>\n",
       "      <td>1725.55230</td>\n",
       "    </tr>\n",
       "    <tr>\n",
       "      <th>2</th>\n",
       "      <td>28</td>\n",
       "      <td>male</td>\n",
       "      <td>33.000</td>\n",
       "      <td>3</td>\n",
       "      <td>no</td>\n",
       "      <td>southeast</td>\n",
       "      <td>4449.46200</td>\n",
       "    </tr>\n",
       "    <tr>\n",
       "      <th>3</th>\n",
       "      <td>33</td>\n",
       "      <td>male</td>\n",
       "      <td>22.705</td>\n",
       "      <td>0</td>\n",
       "      <td>no</td>\n",
       "      <td>northwest</td>\n",
       "      <td>21984.47061</td>\n",
       "    </tr>\n",
       "    <tr>\n",
       "      <th>4</th>\n",
       "      <td>32</td>\n",
       "      <td>male</td>\n",
       "      <td>28.880</td>\n",
       "      <td>0</td>\n",
       "      <td>no</td>\n",
       "      <td>northwest</td>\n",
       "      <td>3866.85520</td>\n",
       "    </tr>\n",
       "  </tbody>\n",
       "</table>\n",
       "</div>"
      ],
      "text/plain": [
       "   age     sex     bmi  children smoker     region      charges\n",
       "0   19  female  27.900         0    yes  southwest  16884.92400\n",
       "1   18    male  33.770         1     no  southeast   1725.55230\n",
       "2   28    male  33.000         3     no  southeast   4449.46200\n",
       "3   33    male  22.705         0     no  northwest  21984.47061\n",
       "4   32    male  28.880         0     no  northwest   3866.85520"
      ]
     },
     "execution_count": 180,
     "metadata": {},
     "output_type": "execute_result"
    }
   ],
   "source": [
    "data.head()"
   ]
  },
  {
   "cell_type": "code",
   "execution_count": 181,
   "metadata": {},
   "outputs": [
    {
     "name": "stdout",
     "output_type": "stream",
     "text": [
      "<class 'pandas.core.frame.DataFrame'>\n",
      "RangeIndex: 1338 entries, 0 to 1337\n",
      "Data columns (total 7 columns):\n",
      " #   Column    Non-Null Count  Dtype  \n",
      "---  ------    --------------  -----  \n",
      " 0   age       1338 non-null   int64  \n",
      " 1   sex       1338 non-null   object \n",
      " 2   bmi       1338 non-null   float64\n",
      " 3   children  1338 non-null   int64  \n",
      " 4   smoker    1338 non-null   object \n",
      " 5   region    1338 non-null   object \n",
      " 6   charges   1338 non-null   float64\n",
      "dtypes: float64(2), int64(2), object(3)\n",
      "memory usage: 73.3+ KB\n"
     ]
    }
   ],
   "source": [
    "data.info()"
   ]
  },
  {
   "cell_type": "code",
   "execution_count": 182,
   "metadata": {},
   "outputs": [
    {
     "data": {
      "text/html": [
       "<div>\n",
       "<style scoped>\n",
       "    .dataframe tbody tr th:only-of-type {\n",
       "        vertical-align: middle;\n",
       "    }\n",
       "\n",
       "    .dataframe tbody tr th {\n",
       "        vertical-align: top;\n",
       "    }\n",
       "\n",
       "    .dataframe thead th {\n",
       "        text-align: right;\n",
       "    }\n",
       "</style>\n",
       "<table border=\"1\" class=\"dataframe\">\n",
       "  <thead>\n",
       "    <tr style=\"text-align: right;\">\n",
       "      <th></th>\n",
       "      <th>age</th>\n",
       "      <th>bmi</th>\n",
       "      <th>children</th>\n",
       "      <th>charges</th>\n",
       "    </tr>\n",
       "  </thead>\n",
       "  <tbody>\n",
       "    <tr>\n",
       "      <th>count</th>\n",
       "      <td>1338.000000</td>\n",
       "      <td>1338.000000</td>\n",
       "      <td>1338.000000</td>\n",
       "      <td>1338.000000</td>\n",
       "    </tr>\n",
       "    <tr>\n",
       "      <th>mean</th>\n",
       "      <td>39.207025</td>\n",
       "      <td>30.663397</td>\n",
       "      <td>1.094918</td>\n",
       "      <td>13270.422265</td>\n",
       "    </tr>\n",
       "    <tr>\n",
       "      <th>std</th>\n",
       "      <td>14.049960</td>\n",
       "      <td>6.098187</td>\n",
       "      <td>1.205493</td>\n",
       "      <td>12110.011237</td>\n",
       "    </tr>\n",
       "    <tr>\n",
       "      <th>min</th>\n",
       "      <td>18.000000</td>\n",
       "      <td>15.960000</td>\n",
       "      <td>0.000000</td>\n",
       "      <td>1121.873900</td>\n",
       "    </tr>\n",
       "    <tr>\n",
       "      <th>25%</th>\n",
       "      <td>27.000000</td>\n",
       "      <td>26.296250</td>\n",
       "      <td>0.000000</td>\n",
       "      <td>4740.287150</td>\n",
       "    </tr>\n",
       "    <tr>\n",
       "      <th>50%</th>\n",
       "      <td>39.000000</td>\n",
       "      <td>30.400000</td>\n",
       "      <td>1.000000</td>\n",
       "      <td>9382.033000</td>\n",
       "    </tr>\n",
       "    <tr>\n",
       "      <th>75%</th>\n",
       "      <td>51.000000</td>\n",
       "      <td>34.693750</td>\n",
       "      <td>2.000000</td>\n",
       "      <td>16639.912515</td>\n",
       "    </tr>\n",
       "    <tr>\n",
       "      <th>max</th>\n",
       "      <td>64.000000</td>\n",
       "      <td>53.130000</td>\n",
       "      <td>5.000000</td>\n",
       "      <td>63770.428010</td>\n",
       "    </tr>\n",
       "  </tbody>\n",
       "</table>\n",
       "</div>"
      ],
      "text/plain": [
       "               age          bmi     children       charges\n",
       "count  1338.000000  1338.000000  1338.000000   1338.000000\n",
       "mean     39.207025    30.663397     1.094918  13270.422265\n",
       "std      14.049960     6.098187     1.205493  12110.011237\n",
       "min      18.000000    15.960000     0.000000   1121.873900\n",
       "25%      27.000000    26.296250     0.000000   4740.287150\n",
       "50%      39.000000    30.400000     1.000000   9382.033000\n",
       "75%      51.000000    34.693750     2.000000  16639.912515\n",
       "max      64.000000    53.130000     5.000000  63770.428010"
      ]
     },
     "execution_count": 182,
     "metadata": {},
     "output_type": "execute_result"
    }
   ],
   "source": [
    "data.describe()"
   ]
  },
  {
   "cell_type": "code",
   "execution_count": 183,
   "metadata": {},
   "outputs": [
    {
     "data": {
      "text/plain": [
       "age         0\n",
       "sex         0\n",
       "bmi         0\n",
       "children    0\n",
       "smoker      0\n",
       "region      0\n",
       "charges     0\n",
       "dtype: int64"
      ]
     },
     "execution_count": 183,
     "metadata": {},
     "output_type": "execute_result"
    }
   ],
   "source": [
    "data.isnull().sum()"
   ]
  },
  {
   "cell_type": "code",
   "execution_count": 184,
   "metadata": {},
   "outputs": [
    {
     "data": {
      "text/html": [
       "<div>\n",
       "<style scoped>\n",
       "    .dataframe tbody tr th:only-of-type {\n",
       "        vertical-align: middle;\n",
       "    }\n",
       "\n",
       "    .dataframe tbody tr th {\n",
       "        vertical-align: top;\n",
       "    }\n",
       "\n",
       "    .dataframe thead th {\n",
       "        text-align: right;\n",
       "    }\n",
       "</style>\n",
       "<table border=\"1\" class=\"dataframe\">\n",
       "  <thead>\n",
       "    <tr style=\"text-align: right;\">\n",
       "      <th></th>\n",
       "      <th>age</th>\n",
       "      <th>sex</th>\n",
       "      <th>bmi</th>\n",
       "      <th>children</th>\n",
       "      <th>smoker</th>\n",
       "      <th>region</th>\n",
       "      <th>charges</th>\n",
       "    </tr>\n",
       "  </thead>\n",
       "  <tbody>\n",
       "    <tr>\n",
       "      <th>581</th>\n",
       "      <td>19</td>\n",
       "      <td>male</td>\n",
       "      <td>30.59</td>\n",
       "      <td>0</td>\n",
       "      <td>no</td>\n",
       "      <td>northwest</td>\n",
       "      <td>1639.5631</td>\n",
       "    </tr>\n",
       "  </tbody>\n",
       "</table>\n",
       "</div>"
      ],
      "text/plain": [
       "     age   sex    bmi  children smoker     region    charges\n",
       "581   19  male  30.59         0     no  northwest  1639.5631"
      ]
     },
     "execution_count": 184,
     "metadata": {},
     "output_type": "execute_result"
    }
   ],
   "source": [
    "data[data.duplicated()]"
   ]
  },
  {
   "cell_type": "markdown",
   "metadata": {},
   "source": [
    "### Feature Engineering"
   ]
  },
  {
   "cell_type": "markdown",
   "metadata": {},
   "source": [
    "#### Duplicate Data"
   ]
  },
  {
   "cell_type": "code",
   "execution_count": 185,
   "metadata": {},
   "outputs": [],
   "source": [
    "data_duplicate = data.copy()"
   ]
  },
  {
   "cell_type": "code",
   "execution_count": 186,
   "metadata": {},
   "outputs": [],
   "source": [
    "def duplicate_remove(data):\n",
    "    data = data.drop_duplicates()\n",
    "    return data"
   ]
  },
  {
   "cell_type": "markdown",
   "metadata": {},
   "source": [
    "#### Cardinality Check"
   ]
  },
  {
   "cell_type": "code",
   "execution_count": 187,
   "metadata": {},
   "outputs": [],
   "source": [
    "def cardinality_check(data):\n",
    "    cat_cols = list(data.select_dtypes(include='object').columns)\n",
    "    listItem = []\n",
    "    for col in cat_cols:\n",
    "        listItem.append([col, data[col].nunique(), data[col].unique()])\n",
    "    dataframe = pd.DataFrame(columns=['nama kolom', 'jumlah nilai unique', 'nilai unique'], data=listItem)\n",
    "    return dataframe"
   ]
  },
  {
   "cell_type": "markdown",
   "metadata": {},
   "source": [
    "#### Data Spliting"
   ]
  },
  {
   "cell_type": "code",
   "execution_count": 188,
   "metadata": {},
   "outputs": [],
   "source": [
    "def data_split(feature, target, size, random):\n",
    "    X_train, X_test, y_train, y_test = train_test_split(feature, target, test_size = size, random_state=random)\n",
    "    return X_train, X_test, y_train, y_test"
   ]
  },
  {
   "cell_type": "markdown",
   "metadata": {},
   "source": [
    "#### Distribution Check"
   ]
  },
  {
   "cell_type": "code",
   "execution_count": 189,
   "metadata": {},
   "outputs": [],
   "source": [
    "def skew_check(data):\n",
    "    num_cols = list(data.select_dtypes(exclude='object').columns)\n",
    "    listItem = []\n",
    "    for col in num_cols:\n",
    "        nilai_skew = data[col].skew()\n",
    "        if -0.5 <= nilai_skew <= 0.5:\n",
    "            listItem.append([col, round(nilai_skew, 2), \"normal\"])\n",
    "        elif -1 < nilai_skew < -0.5 or 0.5 < nilai_skew < 1:\n",
    "            listItem.append([col, round(nilai_skew, 2), \"moderately skewed\"])\n",
    "        else:\n",
    "            listItem.append([col, round(nilai_skew, 2), \"highly skewed\"])\n",
    "    dataframe = pd.DataFrame(columns=['nama kolom', 'nilai skewness', 'distribusi'], data=listItem)\n",
    "    return dataframe"
   ]
  },
  {
   "cell_type": "markdown",
   "metadata": {},
   "source": [
    "#### Outliers Check"
   ]
  },
  {
   "cell_type": "code",
   "execution_count": 190,
   "metadata": {},
   "outputs": [],
   "source": [
    "def outliers_check(data):\n",
    "    num_cols = list(data.select_dtypes(exclude='object').columns)\n",
    "    listItem = []\n",
    "    for col in num_cols:\n",
    "        listItem.append([col, round(data[col].skew(),1), np.where(\n",
    "            (round(data[col].skew(),1) <= 0.5) & (round(data[col].skew(),1) >= -0.5),\n",
    "            'normal',\n",
    "            'skewed')])\n",
    "    skewness = pd.DataFrame(columns=['nama kolom', 'nilai skewness', 'distribution'], data= listItem)\n",
    "    column = []\n",
    "    lower_bound = []\n",
    "    upper_bound = []\n",
    "    percent_total_outlier = []\n",
    "\n",
    "    for row in range (0, len(skewness)):\n",
    "        col = skewness['nama kolom'][row]\n",
    "        #checking upper and lower boundary\n",
    "        if skewness['distribution'][row] == 'skewed':\n",
    "            IQR = data[col].quantile(0.75) - data[col].quantile(0.25)\n",
    "            lower_boundary = data[col].quantile(0.25) - (IQR * 3)\n",
    "            upper_boundary = data[col].quantile(0.75) + (IQR * 3)\n",
    "        else:\n",
    "            lower_boundary = data[col].mean() - 3* data[col].std()\n",
    "            upper_boundary = data[col].mean() + 3* data[col].std()\n",
    "        #append to list\n",
    "        column.append(col)\n",
    "        lower_bound.append(lower_boundary)\n",
    "        upper_bound.append(upper_boundary)\n",
    "        totout = ((len(data[data[col] > upper_boundary]) / len(data) * 100) + (len(data[data[col] < lower_boundary]) / len(data) * 100))\n",
    "        percent_total_outlier.append(totout)\n",
    "\n",
    "    outliers = pd.DataFrame({\n",
    "        'column': column,\n",
    "        #round the value\n",
    "        'upper_boundary': [round(upper_bound,2) for upper_bound in upper_bound],\n",
    "        'lower_boundary': [round(lower_bound,2) for lower_bound in lower_bound],\n",
    "        'percentage_total_outlier': [round(percent_total_outlier,2) for percent_total_outlier in percent_total_outlier]\n",
    "    })\n",
    "    return outliers\n"
   ]
  },
  {
   "cell_type": "code",
   "execution_count": 191,
   "metadata": {},
   "outputs": [],
   "source": [
    "def handling_outliers(data):\n",
    "    num_cols = list(data.select_dtypes(exclude='object').columns)\n",
    "    for col in num_cols:\n",
    "        nilai_skew = data[col].skew()\n",
    "        if -0.5 <= nilai_skew <= 0.5:\n",
    "            lower_boundary = data[col].mean() - 3* data[col].std()\n",
    "            upper_boundary = data[col].mean() + 3* data[col].std()\n",
    "            totout = ((len(data[data[col] > upper_boundary]) / len(data) * 100) + (len(data[data[col] < lower_boundary]) / len(data) * 100))\n",
    "            if totout < 0.05:\n",
    "                data = data.drop(data[(data[col] > upper_boundary) | (data[col] < lower_boundary)].index)\n",
    "            else:\n",
    "                data[col] = np.clip(data[col], lower_boundary, upper_boundary)\n",
    "        else:\n",
    "            IQR = data[col].quantile(0.75) - data[col].quantile(0.25)\n",
    "            lower_boundary = data[col].quantile(0.25) - (IQR * 3)\n",
    "            upper_boundary = data[col].quantile(0.75) + (IQR * 3)\n",
    "            totout = ((len(data[data[col] > upper_boundary]) / len(data) * 100) + (len(data[data[col] < lower_boundary]) / len(data) * 100))\n",
    "            if totout < 0.05:\n",
    "                data = data.drop(data[(data[col] > upper_boundary) | (data[col] < lower_boundary)].index)\n",
    "            else:\n",
    "                data[col] = np.clip(data[col], lower_boundary, upper_boundary)\n",
    "\n",
    "    return data"
   ]
  },
  {
   "cell_type": "markdown",
   "metadata": {},
   "source": [
    "#### Vizualitation"
   ]
  },
  {
   "cell_type": "code",
   "execution_count": 192,
   "metadata": {},
   "outputs": [],
   "source": [
    "def diagnostic_plots(data):\n",
    "    num_cols = list(data.select_dtypes(exclude='object').columns)\n",
    "    for col in num_cols:\n",
    "        plt.figure(figsize=(16, 4))\n",
    "\n",
    "        plt.subplot(1, 2, 1)\n",
    "        sns.histplot(data[col], bins=30)\n",
    "        plt.title(f'Histogram \\n {round(data[col].skew(),2)}')\n",
    "\n",
    "        plt.subplot(1, 2, 2)\n",
    "        sns.boxplot(y=data[col])\n",
    "        plt.title('Boxplot')\n",
    "\n",
    "        plt.show()"
   ]
  },
  {
   "cell_type": "markdown",
   "metadata": {},
   "source": [
    "#### Correlation Check"
   ]
  },
  {
   "cell_type": "code",
   "execution_count": 193,
   "metadata": {},
   "outputs": [],
   "source": [
    "def correlation_check(data, target):\n",
    "    listItem = []\n",
    "    cat_cols = list(data.select_dtypes(include='object').columns)\n",
    "    \n",
    "    for col in cat_cols:\n",
    "        corr_tau, pval_k = stats.kendalltau(data[col], data[target])\n",
    "        if 0.5 <= round(corr_tau,2) <= 1:\n",
    "            listItem.append([col, round(corr_tau,2), round(pval_k,2), 'korelasi kuat'])\n",
    "        else:\n",
    "            listItem.append([col, round(corr_tau,2), round(pval_k,2), 'korelasi lemah'])\n",
    "    num_cols = list(data.select_dtypes(exclude='object').columns)\n",
    "\n",
    "    for col in num_cols:\n",
    "        if col == target:\n",
    "            pass\n",
    "        elif -0.5 <= round(data[col].skew(), 2) <= 0.5:\n",
    "            corr_r, pval_p = stats.pearsonr(data[col], y)\n",
    "            if 0.5 <= round(corr_r,2) <= 1:\n",
    "                listItem.append([col, round(corr_r,2), round(pval_p, 2), 'korelasi kuat'])\n",
    "            else:\n",
    "                listItem.append([col, round(corr_r,2), round(pval_p, 2), 'korelasi lemah'])\n",
    "        else:\n",
    "            corr_rho, pval_s = stats.spearmanr(data[col], y)\n",
    "            if 0.5 <= round(corr_rho,2) <= 1:\n",
    "                listItem.append([col, round(corr_rho,2), round(pval_s,2), 'korelasi kuat'])\n",
    "            else:\n",
    "                listItem.append([col, round(corr_rho,2), round(pval_s,2), 'korelasi lemah'])\n",
    "\n",
    "    dataframe = pd.DataFrame(columns=['nama kolom', 'nilai korelasi', 'nilai p-value', 'keterangan'], data=listItem)\n",
    "    return dataframe"
   ]
  },
  {
   "cell_type": "code",
   "execution_count": 194,
   "metadata": {},
   "outputs": [],
   "source": [
    "df = data_duplicate[['smoker', 'age', 'bmi', 'children', 'charges']]"
   ]
  },
  {
   "cell_type": "code",
   "execution_count": 195,
   "metadata": {},
   "outputs": [],
   "source": [
    "X = df.drop(['charges'], axis = 1)\n",
    "y = df['charges']\n",
    "X_train, X_test, y_train, y_test = data_split(X, y, 0.2, 0)"
   ]
  },
  {
   "cell_type": "code",
   "execution_count": 196,
   "metadata": {},
   "outputs": [
    {
     "name": "stdout",
     "output_type": "stream",
     "text": [
      "train size (1070, 4)\n",
      "Test size (268, 4)\n"
     ]
    }
   ],
   "source": [
    "print('train size', X_train.shape)\n",
    "print('Test size', X_test.shape)"
   ]
  }
 ],
 "metadata": {
  "kernelspec": {
   "display_name": "base",
   "language": "python",
   "name": "python3"
  },
  "language_info": {
   "codemirror_mode": {
    "name": "ipython",
    "version": 3
   },
   "file_extension": ".py",
   "mimetype": "text/x-python",
   "name": "python",
   "nbconvert_exporter": "python",
   "pygments_lexer": "ipython3",
   "version": "3.12.4"
  }
 },
 "nbformat": 4,
 "nbformat_minor": 2
}
